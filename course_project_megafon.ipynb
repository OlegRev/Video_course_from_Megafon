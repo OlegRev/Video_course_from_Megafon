{
 "cells": [
  {
   "cell_type": "markdown",
   "id": "58d2abf0-835d-4baf-b15f-e16f909b8856",
   "metadata": {},
   "source": [
    "# Задача:\n",
    "    \n",
    "### *У нас появился запрос из отдела продаж и маркетинга.*\n",
    "### Как вы знаете «МегаФон» предлагает обширный набор различных услуг своим абонентам.\n",
    "### При этом разным пользователям интересны разные услуги.\n",
    "### **Поэтому необходимо построить  алгоритм, который для каждой пары пользователь-услуга определит вероятность подключения услуги.**\n"
   ]
  },
  {
   "cell_type": "markdown",
   "id": "cdc18b07-7fd1-418a-bd14-cfceb9b35986",
   "metadata": {},
   "source": [
    "## Данные:\n",
    "*В качестве исходных данных вам будет доступна информация об отклике абонентов на предложение подключения одной из услуг. Каждому пользователю может быть сделано несколько предложений в разное время, каждое из которых он может или принять, или отклонить.*\n",
    "\n",
    "*Отдельным набором данных будет являться нормализованный анонимизированный набор признаков, характеризующий профиль потребления абонента. Эти данные привязаны к определенному времени, поскольку профиль абонента может меняться с течением времени.*\n",
    "\n",
    "*Данные ***train*** и ***test*** разбиты по периодам – на ***train доступно 4 месяцев***, а на ***test отложен последующий месяц***.* \n",
    "\n"
   ]
  },
  {
   "cell_type": "markdown",
   "id": "fdad8fb3-7d8f-4435-a946-c01fd81142a3",
   "metadata": {},
   "source": [
    "### Итого, в качестве входных данных будут представлены:\n",
    ">* ### ***data_train.csv:***\n",
    "    >>* id,\n",
    "    >>* vas_id,\n",
    "    >>* buy_time,\n",
    "    >>* target\n",
    ">* ### ***features.csv.zip:***\n",
    "    >>* id,\n",
    "    >>* \\<feature_list\\> \n"
   ]
  },
  {
   "cell_type": "markdown",
   "id": "9f3330fa-f56d-4442-ac10-8d4f34277c74",
   "metadata": {},
   "source": [
    "### И тестовый набор:\n",
    "\n",
    ">* ### ***data_test.csv:***\n",
    "    >>* id,\n",
    "    >>* vas_id,\n",
    "    >>* buy_time\n",
    "    \n",
    ">* ### target - целевая переменная, где\n",
    "    >>* 1 - означает подключение услуги,\n",
    "    >>* 0 - абонент не подключил услугу соответственно. \n",
    ">* ### buy_time - время покупки,\n",
    "    >>* представлено в формате timestamp, для работы с этим столбцом понадобится функция ***datetime.fromtimestamp*** из модуля ***datetime***.\n",
    ">* ### id - идентификатор абонента\n",
    ">* ### vas_id - подключаемая услуга\n",
    "\n",
    "*Примечание: Размер файла features.csv в распакованном виде весит 20 гб, для работы  с ним можно воспользоваться pandas.read_csv, либо можно воспользоваться библиотекой Dask.*\n"
   ]
  },
  {
   "cell_type": "markdown",
   "id": "8a8a6a1f-bb85-477e-adf4-253dbb65c324",
   "metadata": {},
   "source": [
    "## Метрика\n",
    "*Скоринг будет осуществляться функцией ***f1***, невзвешенным образом,\n",
    "как например делает функция \n",
    "***sklearn.metrics.f1_score(…, average=’macro’)***.*\n",
    "\n",
    "[sklearn.metrics.f1_score — scikit-learn 0.22.1 documentation](https://scikit-learn.org/stable/modules/generated/sklearn.metrics.f1_score)\n"
   ]
  },
  {
   "cell_type": "markdown",
   "id": "306dc109-2715-4f4d-8acc-3e6e3c3fadc8",
   "metadata": {},
   "source": [
    "## Формат представления результата\n",
    ">1. Работающая модель в формате ***pickle***, которая принимает файл ***data_test.csv*** из корневой папки и записывает в эту же папку файл ***answers_test.csv***. В этом файле должны находится 4 столбца:\n",
    "    >>* buy_time,\n",
    "    >>* id,\n",
    "    >>* vas_id\n",
    "    >>* target.  \n",
    "    >>>***Target можно записать как вероятность подключения услуги***.\n",
    ">2.\tКод модели можно представить в виде ***jupyter-ноутбука***. \n",
    ">3.\tПрезентация в формате ***.pdf***, в которой необходимо отразить:\n",
    ">>* Информация о модели, ее параметрах, особенностях и основных результатах.\n",
    ">>* Обоснование выбора модели и ее сравнение с альтернативами.\n",
    ">>* Принцип составления индивидуальных предложений для выбранных абонентов.\n",
    "\n",
    "*Рекомендуемое количество слайдов: ***5 – 10***.*\n",
    "\n",
    "Файл ***answers_test.csv*** с результатами работы модели, презентацию, ноутбуки и резюме необходимо прикрепить ко второму уроку “курсовой проект”.\n"
   ]
  },
  {
   "cell_type": "markdown",
   "id": "7b3ef148-bde9-42d6-97e7-a9d10e40fd6f",
   "metadata": {},
   "source": [
    "### Импорт библиотек"
   ]
  },
  {
   "cell_type": "code",
   "execution_count": 1,
   "id": "d55a1961-58e7-46f8-a82b-05fb8183a01e",
   "metadata": {},
   "outputs": [],
   "source": [
    "import pandas as pd\n",
    "import dill\n",
    "import dask.dataframe as dd\n",
    "from datetime import datetime\n",
    "from dask.distributed import Client, progress"
   ]
  },
  {
   "cell_type": "markdown",
   "id": "4b84c150-483c-4215-a4c8-c7eaa23a27d7",
   "metadata": {},
   "source": [
    "### Запуск \"клиента\" Dask\n",
    "#### *Client() предоствит панель мониторинга [Dashboard](http://127.0.0.1:8787/status), которая полезна для получения информации о вычислениях.*\n"
   ]
  },
  {
   "cell_type": "code",
   "execution_count": 2,
   "id": "1ba3d8e3-314a-4650-a460-e55a1dc8fe98",
   "metadata": {},
   "outputs": [
    {
     "name": "stdout",
     "output_type": "stream",
     "text": [
      "Wall time: 1.39 s\n"
     ]
    },
    {
     "data": {
      "text/html": [
       "<table style=\"border: 2px solid white;\">\n",
       "<tr>\n",
       "<td style=\"vertical-align: top; border: 0px solid white\">\n",
       "<h3 style=\"text-align: left;\">Client</h3>\n",
       "<ul style=\"text-align: left; list-style: none; margin: 0; padding: 0;\">\n",
       "  <li><b>Scheduler: </b>tcp://127.0.0.1:61404</li>\n",
       "  <li><b>Dashboard: </b><a href='http://127.0.0.1:8787/status' target='_blank'>http://127.0.0.1:8787/status</a></li>\n",
       "</ul>\n",
       "</td>\n",
       "<td style=\"vertical-align: top; border: 0px solid white\">\n",
       "<h3 style=\"text-align: left;\">Cluster</h3>\n",
       "<ul style=\"text-align: left; list-style:none; margin: 0; padding: 0;\">\n",
       "  <li><b>Workers: </b>4</li>\n",
       "  <li><b>Cores: </b>4</li>\n",
       "  <li><b>Memory: </b>15.94 GiB</li>\n",
       "</ul>\n",
       "</td>\n",
       "</tr>\n",
       "</table>"
      ],
      "text/plain": [
       "<Client: 'tcp://127.0.0.1:61404' processes=4 threads=4, memory=15.94 GiB>"
      ]
     },
     "execution_count": 2,
     "metadata": {},
     "output_type": "execute_result"
    }
   ],
   "source": [
    "%%time\n",
    "client = Client()\n",
    "client"
   ]
  },
  {
   "cell_type": "code",
   "execution_count": 3,
   "id": "60c26dce-c111-419e-8c55-e57d55f5284a",
   "metadata": {},
   "outputs": [],
   "source": [
    "PATH_D = './data/'"
   ]
  },
  {
   "cell_type": "code",
   "execution_count": 4,
   "id": "39bb1a9c-f70d-4577-8a42-f265be31774a",
   "metadata": {},
   "outputs": [
    {
     "name": "stdout",
     "output_type": "stream",
     "text": [
      "Wall time: 79.2 ms\n"
     ]
    }
   ],
   "source": [
    "%%time\n",
    "dd_features = dd.read_csv(f'{PATH_D}features.csv',sep='\\t')\n",
    "dd_train = dd.read_csv(f'{PATH_D}data_train.csv')\n",
    "dd_test = dd.read_csv(f'{PATH_D}data_test.csv')"
   ]
  },
  {
   "cell_type": "code",
   "execution_count": 5,
   "id": "53bbf08e-b781-4bcb-b441-36e9ef368d9f",
   "metadata": {},
   "outputs": [],
   "source": [
    "def print_shape_data(dd_data):\n",
    "    print(f\"Shape: columns: {len(dd_data.columns)} Items: {len(dd_data.index)}\")\n",
    "    \n",
    "def get_replace_dict(col_ending):\n",
    "    \"\"\"Функция возврата словаря для замены columns['Unnamed: 0', 'buy_time'] \n",
    "    через функцию .rename(columns=dict(...))\"\"\"\n",
    "    return {'Unnamed: 0': f'index_{col_ending}', 'buy_time': f'buy_time_{col_ending}'}"
   ]
  },
  {
   "cell_type": "code",
   "execution_count": 6,
   "id": "618eb6cf-7944-4611-b549-a7df70aa6347",
   "metadata": {},
   "outputs": [
    {
     "name": "stdout",
     "output_type": "stream",
     "text": [
      "Shape: columns: 5 Items: 831653\n",
      "Wall time: 1.07 s\n"
     ]
    }
   ],
   "source": [
    "%%time\n",
    "print_shape_data(dd_train)"
   ]
  },
  {
   "cell_type": "code",
   "execution_count": 7,
   "id": "9abff1f5-a565-41d5-81f2-cf5811c2d743",
   "metadata": {},
   "outputs": [
    {
     "name": "stdout",
     "output_type": "stream",
     "text": [
      "Shape: columns: 256 Items: 1524953\n",
      "Wall time: 36.8 s\n"
     ]
    }
   ],
   "source": [
    "%%time\n",
    "print_shape_data(dd_features)"
   ]
  },
  {
   "cell_type": "code",
   "execution_count": 8,
   "id": "b93b72a4-a4af-48b2-ae1f-cf6fcea94121",
   "metadata": {},
   "outputs": [
    {
     "name": "stdout",
     "output_type": "stream",
     "text": [
      "Shape: columns: 4 Items: 71231\n",
      "Wall time: 67 ms\n"
     ]
    }
   ],
   "source": [
    "%%time\n",
    "print_shape_data(dd_test)"
   ]
  },
  {
   "cell_type": "code",
   "execution_count": 9,
   "id": "d06bd213-38f6-4769-ab6c-cda3471d8e9b",
   "metadata": {},
   "outputs": [
    {
     "name": "stdout",
     "output_type": "stream",
     "text": [
      "Wall time: 450 ms\n"
     ]
    },
    {
     "data": {
      "text/html": [
       "<div>\n",
       "<style scoped>\n",
       "    .dataframe tbody tr th:only-of-type {\n",
       "        vertical-align: middle;\n",
       "    }\n",
       "\n",
       "    .dataframe tbody tr th {\n",
       "        vertical-align: top;\n",
       "    }\n",
       "\n",
       "    .dataframe thead th {\n",
       "        text-align: right;\n",
       "    }\n",
       "</style>\n",
       "<table border=\"1\" class=\"dataframe\">\n",
       "  <thead>\n",
       "    <tr style=\"text-align: right;\">\n",
       "      <th></th>\n",
       "      <th>Unnamed: 0</th>\n",
       "      <th>id</th>\n",
       "      <th>vas_id</th>\n",
       "      <th>buy_time</th>\n",
       "      <th>target</th>\n",
       "    </tr>\n",
       "  </thead>\n",
       "  <tbody>\n",
       "    <tr>\n",
       "      <th>0</th>\n",
       "      <td>0</td>\n",
       "      <td>540968</td>\n",
       "      <td>8.0</td>\n",
       "      <td>1537131600</td>\n",
       "      <td>0.0</td>\n",
       "    </tr>\n",
       "    <tr>\n",
       "      <th>1</th>\n",
       "      <td>1</td>\n",
       "      <td>1454121</td>\n",
       "      <td>4.0</td>\n",
       "      <td>1531688400</td>\n",
       "      <td>0.0</td>\n",
       "    </tr>\n",
       "    <tr>\n",
       "      <th>2</th>\n",
       "      <td>2</td>\n",
       "      <td>2458816</td>\n",
       "      <td>1.0</td>\n",
       "      <td>1534107600</td>\n",
       "      <td>0.0</td>\n",
       "    </tr>\n",
       "  </tbody>\n",
       "</table>\n",
       "</div>"
      ],
      "text/plain": [
       "   Unnamed: 0       id  vas_id    buy_time  target\n",
       "0           0   540968     8.0  1537131600     0.0\n",
       "1           1  1454121     4.0  1531688400     0.0\n",
       "2           2  2458816     1.0  1534107600     0.0"
      ]
     },
     "execution_count": 9,
     "metadata": {},
     "output_type": "execute_result"
    }
   ],
   "source": [
    "%%time\n",
    "dd_train.head(3)"
   ]
  },
  {
   "cell_type": "code",
   "execution_count": 10,
   "id": "6e5ef42c-8ca8-499c-a6fb-a3839153a135",
   "metadata": {},
   "outputs": [
    {
     "data": {
      "text/html": [
       "<div>\n",
       "<style scoped>\n",
       "    .dataframe tbody tr th:only-of-type {\n",
       "        vertical-align: middle;\n",
       "    }\n",
       "\n",
       "    .dataframe tbody tr th {\n",
       "        vertical-align: top;\n",
       "    }\n",
       "\n",
       "    .dataframe thead th {\n",
       "        text-align: right;\n",
       "    }\n",
       "</style>\n",
       "<table border=\"1\" class=\"dataframe\">\n",
       "  <thead>\n",
       "    <tr style=\"text-align: right;\">\n",
       "      <th></th>\n",
       "      <th>Unnamed: 0</th>\n",
       "      <th>id</th>\n",
       "      <th>vas_id</th>\n",
       "      <th>buy_time</th>\n",
       "      <th>target</th>\n",
       "    </tr>\n",
       "  </thead>\n",
       "  <tbody>\n",
       "    <tr>\n",
       "      <th>831650</th>\n",
       "      <td>831650</td>\n",
       "      <td>158236</td>\n",
       "      <td>2.0</td>\n",
       "      <td>1546203600</td>\n",
       "      <td>0.0</td>\n",
       "    </tr>\n",
       "    <tr>\n",
       "      <th>831651</th>\n",
       "      <td>831651</td>\n",
       "      <td>1825525</td>\n",
       "      <td>2.0</td>\n",
       "      <td>1546203600</td>\n",
       "      <td>0.0</td>\n",
       "    </tr>\n",
       "    <tr>\n",
       "      <th>831652</th>\n",
       "      <td>831652</td>\n",
       "      <td>3022610</td>\n",
       "      <td>2.0</td>\n",
       "      <td>1546203600</td>\n",
       "      <td>0.0</td>\n",
       "    </tr>\n",
       "  </tbody>\n",
       "</table>\n",
       "</div>"
      ],
      "text/plain": [
       "        Unnamed: 0       id  vas_id    buy_time  target\n",
       "831650      831650   158236     2.0  1546203600     0.0\n",
       "831651      831651  1825525     2.0  1546203600     0.0\n",
       "831652      831652  3022610     2.0  1546203600     0.0"
      ]
     },
     "execution_count": 10,
     "metadata": {},
     "output_type": "execute_result"
    }
   ],
   "source": [
    "dd_train.tail(3)"
   ]
  },
  {
   "cell_type": "code",
   "execution_count": 11,
   "id": "e5f8c8c6-95b9-40e7-8340-a0e4b71e0a66",
   "metadata": {},
   "outputs": [
    {
     "name": "stdout",
     "output_type": "stream",
     "text": [
      "Wall time: 933 ms\n"
     ]
    },
    {
     "data": {
      "text/html": [
       "<div>\n",
       "<style scoped>\n",
       "    .dataframe tbody tr th:only-of-type {\n",
       "        vertical-align: middle;\n",
       "    }\n",
       "\n",
       "    .dataframe tbody tr th {\n",
       "        vertical-align: top;\n",
       "    }\n",
       "\n",
       "    .dataframe thead th {\n",
       "        text-align: right;\n",
       "    }\n",
       "</style>\n",
       "<table border=\"1\" class=\"dataframe\">\n",
       "  <thead>\n",
       "    <tr style=\"text-align: right;\">\n",
       "      <th></th>\n",
       "      <th>Unnamed: 0</th>\n",
       "      <th>id</th>\n",
       "      <th>buy_time</th>\n",
       "      <th>0</th>\n",
       "      <th>1</th>\n",
       "      <th>2</th>\n",
       "      <th>3</th>\n",
       "      <th>4</th>\n",
       "      <th>5</th>\n",
       "      <th>6</th>\n",
       "      <th>...</th>\n",
       "      <th>243</th>\n",
       "      <th>244</th>\n",
       "      <th>245</th>\n",
       "      <th>246</th>\n",
       "      <th>247</th>\n",
       "      <th>248</th>\n",
       "      <th>249</th>\n",
       "      <th>250</th>\n",
       "      <th>251</th>\n",
       "      <th>252</th>\n",
       "    </tr>\n",
       "  </thead>\n",
       "  <tbody>\n",
       "    <tr>\n",
       "      <th>0</th>\n",
       "      <td>0</td>\n",
       "      <td>2013026</td>\n",
       "      <td>1531688400</td>\n",
       "      <td>18.910029</td>\n",
       "      <td>46.980888</td>\n",
       "      <td>4.969214</td>\n",
       "      <td>-1.386798</td>\n",
       "      <td>3.791754</td>\n",
       "      <td>-14.01179</td>\n",
       "      <td>-16.08618</td>\n",
       "      <td>...</td>\n",
       "      <td>-977.373846</td>\n",
       "      <td>-613.770792</td>\n",
       "      <td>-25.996269</td>\n",
       "      <td>-37.630448</td>\n",
       "      <td>-301.747724</td>\n",
       "      <td>-25.832889</td>\n",
       "      <td>-0.694428</td>\n",
       "      <td>-12.175933</td>\n",
       "      <td>-0.45614</td>\n",
       "      <td>0.0</td>\n",
       "    </tr>\n",
       "    <tr>\n",
       "      <th>1</th>\n",
       "      <td>1</td>\n",
       "      <td>2014722</td>\n",
       "      <td>1539550800</td>\n",
       "      <td>36.690029</td>\n",
       "      <td>152.400888</td>\n",
       "      <td>448.069214</td>\n",
       "      <td>563.833202</td>\n",
       "      <td>463.841754</td>\n",
       "      <td>568.99821</td>\n",
       "      <td>-16.08618</td>\n",
       "      <td>...</td>\n",
       "      <td>-891.373846</td>\n",
       "      <td>-544.770792</td>\n",
       "      <td>-20.996269</td>\n",
       "      <td>48.369552</td>\n",
       "      <td>80.252276</td>\n",
       "      <td>-13.832889</td>\n",
       "      <td>-0.694428</td>\n",
       "      <td>-1.175933</td>\n",
       "      <td>-0.45614</td>\n",
       "      <td>0.0</td>\n",
       "    </tr>\n",
       "    <tr>\n",
       "      <th>2</th>\n",
       "      <td>2</td>\n",
       "      <td>2015199</td>\n",
       "      <td>1545598800</td>\n",
       "      <td>-67.019971</td>\n",
       "      <td>157.050888</td>\n",
       "      <td>-63.180786</td>\n",
       "      <td>178.103202</td>\n",
       "      <td>-68.598246</td>\n",
       "      <td>156.99821</td>\n",
       "      <td>3.51382</td>\n",
       "      <td>...</td>\n",
       "      <td>-977.373846</td>\n",
       "      <td>-613.770792</td>\n",
       "      <td>-12.996269</td>\n",
       "      <td>-37.630448</td>\n",
       "      <td>10829.252276</td>\n",
       "      <td>-25.832889</td>\n",
       "      <td>-0.694428</td>\n",
       "      <td>-12.175933</td>\n",
       "      <td>-0.45614</td>\n",
       "      <td>0.0</td>\n",
       "    </tr>\n",
       "  </tbody>\n",
       "</table>\n",
       "<p>3 rows × 256 columns</p>\n",
       "</div>"
      ],
      "text/plain": [
       "   Unnamed: 0       id    buy_time          0           1           2  \\\n",
       "0           0  2013026  1531688400  18.910029   46.980888    4.969214   \n",
       "1           1  2014722  1539550800  36.690029  152.400888  448.069214   \n",
       "2           2  2015199  1545598800 -67.019971  157.050888  -63.180786   \n",
       "\n",
       "            3           4          5         6  ...         243         244  \\\n",
       "0   -1.386798    3.791754  -14.01179 -16.08618  ... -977.373846 -613.770792   \n",
       "1  563.833202  463.841754  568.99821 -16.08618  ... -891.373846 -544.770792   \n",
       "2  178.103202  -68.598246  156.99821   3.51382  ... -977.373846 -613.770792   \n",
       "\n",
       "         245        246           247        248       249        250  \\\n",
       "0 -25.996269 -37.630448   -301.747724 -25.832889 -0.694428 -12.175933   \n",
       "1 -20.996269  48.369552     80.252276 -13.832889 -0.694428  -1.175933   \n",
       "2 -12.996269 -37.630448  10829.252276 -25.832889 -0.694428 -12.175933   \n",
       "\n",
       "       251  252  \n",
       "0 -0.45614  0.0  \n",
       "1 -0.45614  0.0  \n",
       "2 -0.45614  0.0  \n",
       "\n",
       "[3 rows x 256 columns]"
      ]
     },
     "execution_count": 11,
     "metadata": {},
     "output_type": "execute_result"
    }
   ],
   "source": [
    "%%time\n",
    "dd_features.head(3)"
   ]
  },
  {
   "cell_type": "code",
   "execution_count": 12,
   "id": "bd9f3981-a700-4e52-afd5-1e066705d593",
   "metadata": {},
   "outputs": [
    {
     "data": {
      "text/html": [
       "<div>\n",
       "<style scoped>\n",
       "    .dataframe tbody tr th:only-of-type {\n",
       "        vertical-align: middle;\n",
       "    }\n",
       "\n",
       "    .dataframe tbody tr th {\n",
       "        vertical-align: top;\n",
       "    }\n",
       "\n",
       "    .dataframe thead th {\n",
       "        text-align: right;\n",
       "    }\n",
       "</style>\n",
       "<table border=\"1\" class=\"dataframe\">\n",
       "  <thead>\n",
       "    <tr style=\"text-align: right;\">\n",
       "      <th></th>\n",
       "      <th>Unnamed: 0</th>\n",
       "      <th>id</th>\n",
       "      <th>buy_time</th>\n",
       "      <th>0</th>\n",
       "      <th>1</th>\n",
       "      <th>2</th>\n",
       "      <th>3</th>\n",
       "      <th>4</th>\n",
       "      <th>5</th>\n",
       "      <th>6</th>\n",
       "      <th>...</th>\n",
       "      <th>243</th>\n",
       "      <th>244</th>\n",
       "      <th>245</th>\n",
       "      <th>246</th>\n",
       "      <th>247</th>\n",
       "      <th>248</th>\n",
       "      <th>249</th>\n",
       "      <th>250</th>\n",
       "      <th>251</th>\n",
       "      <th>252</th>\n",
       "    </tr>\n",
       "  </thead>\n",
       "  <tbody>\n",
       "    <tr>\n",
       "      <th>11939</th>\n",
       "      <td>1524950</td>\n",
       "      <td>4294768</td>\n",
       "      <td>1546203600</td>\n",
       "      <td>-96.799971</td>\n",
       "      <td>-44.619112</td>\n",
       "      <td>-110.740786</td>\n",
       "      <td>-97.226798</td>\n",
       "      <td>-116.158246</td>\n",
       "      <td>-118.33179</td>\n",
       "      <td>-16.08618</td>\n",
       "      <td>...</td>\n",
       "      <td>-906.373846</td>\n",
       "      <td>-544.770792</td>\n",
       "      <td>-25.996269</td>\n",
       "      <td>34.369552</td>\n",
       "      <td>-293.747724</td>\n",
       "      <td>-12.832889</td>\n",
       "      <td>-0.694428</td>\n",
       "      <td>-12.175933</td>\n",
       "      <td>-0.45614</td>\n",
       "      <td>0.0</td>\n",
       "    </tr>\n",
       "    <tr>\n",
       "      <th>11940</th>\n",
       "      <td>1524951</td>\n",
       "      <td>4294877</td>\n",
       "      <td>1531688400</td>\n",
       "      <td>-96.799971</td>\n",
       "      <td>-407.329112</td>\n",
       "      <td>-110.740786</td>\n",
       "      <td>-453.586798</td>\n",
       "      <td>-116.158246</td>\n",
       "      <td>-474.69179</td>\n",
       "      <td>-16.08618</td>\n",
       "      <td>...</td>\n",
       "      <td>-977.373846</td>\n",
       "      <td>-613.770792</td>\n",
       "      <td>-25.996269</td>\n",
       "      <td>-37.630448</td>\n",
       "      <td>-305.747724</td>\n",
       "      <td>-25.832889</td>\n",
       "      <td>-0.694428</td>\n",
       "      <td>-12.175933</td>\n",
       "      <td>-0.45614</td>\n",
       "      <td>0.0</td>\n",
       "    </tr>\n",
       "    <tr>\n",
       "      <th>11941</th>\n",
       "      <td>1524952</td>\n",
       "      <td>4294946</td>\n",
       "      <td>1535317200</td>\n",
       "      <td>-96.799971</td>\n",
       "      <td>-26.819112</td>\n",
       "      <td>-68.370786</td>\n",
       "      <td>-37.056798</td>\n",
       "      <td>-73.788246</td>\n",
       "      <td>-58.16179</td>\n",
       "      <td>-16.08618</td>\n",
       "      <td>...</td>\n",
       "      <td>NaN</td>\n",
       "      <td>NaN</td>\n",
       "      <td>NaN</td>\n",
       "      <td>NaN</td>\n",
       "      <td>NaN</td>\n",
       "      <td>NaN</td>\n",
       "      <td>NaN</td>\n",
       "      <td>NaN</td>\n",
       "      <td>NaN</td>\n",
       "      <td>NaN</td>\n",
       "    </tr>\n",
       "  </tbody>\n",
       "</table>\n",
       "<p>3 rows × 256 columns</p>\n",
       "</div>"
      ],
      "text/plain": [
       "       Unnamed: 0       id    buy_time          0           1           2  \\\n",
       "11939     1524950  4294768  1546203600 -96.799971  -44.619112 -110.740786   \n",
       "11940     1524951  4294877  1531688400 -96.799971 -407.329112 -110.740786   \n",
       "11941     1524952  4294946  1535317200 -96.799971  -26.819112  -68.370786   \n",
       "\n",
       "                3           4          5         6  ...         243  \\\n",
       "11939  -97.226798 -116.158246 -118.33179 -16.08618  ... -906.373846   \n",
       "11940 -453.586798 -116.158246 -474.69179 -16.08618  ... -977.373846   \n",
       "11941  -37.056798  -73.788246  -58.16179 -16.08618  ...         NaN   \n",
       "\n",
       "              244        245        246         247        248       249  \\\n",
       "11939 -544.770792 -25.996269  34.369552 -293.747724 -12.832889 -0.694428   \n",
       "11940 -613.770792 -25.996269 -37.630448 -305.747724 -25.832889 -0.694428   \n",
       "11941         NaN        NaN        NaN         NaN        NaN       NaN   \n",
       "\n",
       "             250      251  252  \n",
       "11939 -12.175933 -0.45614  0.0  \n",
       "11940 -12.175933 -0.45614  0.0  \n",
       "11941        NaN      NaN  NaN  \n",
       "\n",
       "[3 rows x 256 columns]"
      ]
     },
     "execution_count": 12,
     "metadata": {},
     "output_type": "execute_result"
    }
   ],
   "source": [
    "dd_features.tail(3)"
   ]
  },
  {
   "cell_type": "code",
   "execution_count": 13,
   "id": "436af73c-9f02-40db-be4a-552824ecde67",
   "metadata": {},
   "outputs": [
    {
     "name": "stdout",
     "output_type": "stream",
     "text": [
      "Wall time: 66.7 ms\n"
     ]
    },
    {
     "data": {
      "text/html": [
       "<div>\n",
       "<style scoped>\n",
       "    .dataframe tbody tr th:only-of-type {\n",
       "        vertical-align: middle;\n",
       "    }\n",
       "\n",
       "    .dataframe tbody tr th {\n",
       "        vertical-align: top;\n",
       "    }\n",
       "\n",
       "    .dataframe thead th {\n",
       "        text-align: right;\n",
       "    }\n",
       "</style>\n",
       "<table border=\"1\" class=\"dataframe\">\n",
       "  <thead>\n",
       "    <tr style=\"text-align: right;\">\n",
       "      <th></th>\n",
       "      <th>Unnamed: 0</th>\n",
       "      <th>id</th>\n",
       "      <th>vas_id</th>\n",
       "      <th>buy_time</th>\n",
       "    </tr>\n",
       "  </thead>\n",
       "  <tbody>\n",
       "    <tr>\n",
       "      <th>0</th>\n",
       "      <td>0</td>\n",
       "      <td>3130519</td>\n",
       "      <td>2.0</td>\n",
       "      <td>1548018000</td>\n",
       "    </tr>\n",
       "    <tr>\n",
       "      <th>1</th>\n",
       "      <td>1</td>\n",
       "      <td>2000860</td>\n",
       "      <td>4.0</td>\n",
       "      <td>1548018000</td>\n",
       "    </tr>\n",
       "    <tr>\n",
       "      <th>2</th>\n",
       "      <td>2</td>\n",
       "      <td>1099444</td>\n",
       "      <td>2.0</td>\n",
       "      <td>1546808400</td>\n",
       "    </tr>\n",
       "  </tbody>\n",
       "</table>\n",
       "</div>"
      ],
      "text/plain": [
       "   Unnamed: 0       id  vas_id    buy_time\n",
       "0           0  3130519     2.0  1548018000\n",
       "1           1  2000860     4.0  1548018000\n",
       "2           2  1099444     2.0  1546808400"
      ]
     },
     "execution_count": 13,
     "metadata": {},
     "output_type": "execute_result"
    }
   ],
   "source": [
    "%%time\n",
    "dd_test.head(3)"
   ]
  },
  {
   "cell_type": "code",
   "execution_count": 14,
   "id": "312e1119-8251-4d16-8fa7-5f62231b10e8",
   "metadata": {},
   "outputs": [
    {
     "data": {
      "text/html": [
       "<div>\n",
       "<style scoped>\n",
       "    .dataframe tbody tr th:only-of-type {\n",
       "        vertical-align: middle;\n",
       "    }\n",
       "\n",
       "    .dataframe tbody tr th {\n",
       "        vertical-align: top;\n",
       "    }\n",
       "\n",
       "    .dataframe thead th {\n",
       "        text-align: right;\n",
       "    }\n",
       "</style>\n",
       "<table border=\"1\" class=\"dataframe\">\n",
       "  <thead>\n",
       "    <tr style=\"text-align: right;\">\n",
       "      <th></th>\n",
       "      <th>Unnamed: 0</th>\n",
       "      <th>id</th>\n",
       "      <th>vas_id</th>\n",
       "      <th>buy_time</th>\n",
       "    </tr>\n",
       "  </thead>\n",
       "  <tbody>\n",
       "    <tr>\n",
       "      <th>71228</th>\n",
       "      <td>71228</td>\n",
       "      <td>1891350</td>\n",
       "      <td>2.0</td>\n",
       "      <td>1548018000</td>\n",
       "    </tr>\n",
       "    <tr>\n",
       "      <th>71229</th>\n",
       "      <td>71229</td>\n",
       "      <td>2437172</td>\n",
       "      <td>2.0</td>\n",
       "      <td>1548018000</td>\n",
       "    </tr>\n",
       "    <tr>\n",
       "      <th>71230</th>\n",
       "      <td>71230</td>\n",
       "      <td>988236</td>\n",
       "      <td>2.0</td>\n",
       "      <td>1548018000</td>\n",
       "    </tr>\n",
       "  </tbody>\n",
       "</table>\n",
       "</div>"
      ],
      "text/plain": [
       "       Unnamed: 0       id  vas_id    buy_time\n",
       "71228       71228  1891350     2.0  1548018000\n",
       "71229       71229  2437172     2.0  1548018000\n",
       "71230       71230   988236     2.0  1548018000"
      ]
     },
     "execution_count": 14,
     "metadata": {},
     "output_type": "execute_result"
    }
   ],
   "source": [
    "dd_test.tail(3)"
   ]
  },
  {
   "cell_type": "markdown",
   "id": "77294d72-8992-471f-997d-bbe28afa040c",
   "metadata": {},
   "source": [
    "#### Из данных видно что \"Unnamed: 0\" является индексом -> \"index\"\n",
    "#### Так же для отличия колонок из датасета признаков и датасета train и test при обединении данных нужно переименовать колонки \n",
    "Для dd_features:\n",
    "\n",
    "    \"buy_time\" -> \"buy_time_fea\"\n",
    "    \"index\" -> \"index_fea\"\n",
    "\n",
    "Для dd_train и dd_test :\n",
    "    \n",
    "    \"buy_time\" -> \"buy_time_sub\"\n",
    "    \"index\" -> \"index_sub\"\n",
    "(feature -> fea, subscriber -> sub)\n"
   ]
  },
  {
   "cell_type": "code",
   "execution_count": 15,
   "id": "9f383e97-dd1a-496f-869c-76327cba4cf9",
   "metadata": {},
   "outputs": [
    {
     "name": "stdout",
     "output_type": "stream",
     "text": [
      "Wall time: 46.8 ms\n"
     ]
    },
    {
     "name": "stderr",
     "output_type": "stream",
     "text": [
      "D:\\programming\\anaconda3\\lib\\site-packages\\dask\\dataframe\\core.py:3519: UserWarning: \n",
      "You did not provide metadata, so Dask is running your function on a small dataset to guess output types. It is possible that Dask will guess incorrectly.\n",
      "To provide an explicit output types or to silence this message, please provide the `meta=` keyword, as described in the map or apply function that you are using.\n",
      "  Before: .apply(func)\n",
      "  After:  .apply(func, meta=('buy_time', 'datetime64[ns]'))\n",
      "\n",
      "  warnings.warn(meta_warning(meta))\n"
     ]
    }
   ],
   "source": [
    "%%time\n",
    "dd_features.buy_time = dd_features.buy_time.apply(lambda row: datetime.fromtimestamp(row))\n",
    "dd_train.buy_time = dd_train.buy_time.apply(lambda row: datetime.fromtimestamp(row))\n",
    "dd_test.buy_time = dd_test.buy_time.apply(lambda row: datetime.fromtimestamp(row))"
   ]
  },
  {
   "cell_type": "code",
   "execution_count": 16,
   "id": "339bbc82-b4ea-41b5-8e55-b27f81eddcf8",
   "metadata": {},
   "outputs": [
    {
     "name": "stdout",
     "output_type": "stream",
     "text": [
      "Wall time: 53.4 ms\n"
     ]
    }
   ],
   "source": [
    "%%time\n",
    "dd_features = dd_features.rename(columns=get_replace_dict('fea'))\n",
    "dd_train = dd_train.rename(columns=get_replace_dict('sub'))\n",
    "dd_test = dd_test.rename(columns=get_replace_dict('sub'))"
   ]
  },
  {
   "cell_type": "code",
   "execution_count": 17,
   "id": "54fdefcf-05f1-4d03-a292-d5298ef00a74",
   "metadata": {},
   "outputs": [
    {
     "data": {
      "text/html": [
       "<div>\n",
       "<style scoped>\n",
       "    .dataframe tbody tr th:only-of-type {\n",
       "        vertical-align: middle;\n",
       "    }\n",
       "\n",
       "    .dataframe tbody tr th {\n",
       "        vertical-align: top;\n",
       "    }\n",
       "\n",
       "    .dataframe thead th {\n",
       "        text-align: right;\n",
       "    }\n",
       "</style>\n",
       "<table border=\"1\" class=\"dataframe\">\n",
       "  <thead>\n",
       "    <tr style=\"text-align: right;\">\n",
       "      <th></th>\n",
       "      <th>index_fea</th>\n",
       "      <th>id</th>\n",
       "      <th>buy_time_fea</th>\n",
       "      <th>0</th>\n",
       "      <th>1</th>\n",
       "      <th>2</th>\n",
       "      <th>3</th>\n",
       "      <th>4</th>\n",
       "      <th>5</th>\n",
       "      <th>6</th>\n",
       "      <th>...</th>\n",
       "      <th>243</th>\n",
       "      <th>244</th>\n",
       "      <th>245</th>\n",
       "      <th>246</th>\n",
       "      <th>247</th>\n",
       "      <th>248</th>\n",
       "      <th>249</th>\n",
       "      <th>250</th>\n",
       "      <th>251</th>\n",
       "      <th>252</th>\n",
       "    </tr>\n",
       "  </thead>\n",
       "  <tbody>\n",
       "    <tr>\n",
       "      <th>0</th>\n",
       "      <td>0</td>\n",
       "      <td>2013026</td>\n",
       "      <td>2018-07-16</td>\n",
       "      <td>18.910029</td>\n",
       "      <td>46.980888</td>\n",
       "      <td>4.969214</td>\n",
       "      <td>-1.386798</td>\n",
       "      <td>3.791754</td>\n",
       "      <td>-14.01179</td>\n",
       "      <td>-16.08618</td>\n",
       "      <td>...</td>\n",
       "      <td>-977.373846</td>\n",
       "      <td>-613.770792</td>\n",
       "      <td>-25.996269</td>\n",
       "      <td>-37.630448</td>\n",
       "      <td>-301.747724</td>\n",
       "      <td>-25.832889</td>\n",
       "      <td>-0.694428</td>\n",
       "      <td>-12.175933</td>\n",
       "      <td>-0.45614</td>\n",
       "      <td>0.0</td>\n",
       "    </tr>\n",
       "    <tr>\n",
       "      <th>1</th>\n",
       "      <td>1</td>\n",
       "      <td>2014722</td>\n",
       "      <td>2018-10-15</td>\n",
       "      <td>36.690029</td>\n",
       "      <td>152.400888</td>\n",
       "      <td>448.069214</td>\n",
       "      <td>563.833202</td>\n",
       "      <td>463.841754</td>\n",
       "      <td>568.99821</td>\n",
       "      <td>-16.08618</td>\n",
       "      <td>...</td>\n",
       "      <td>-891.373846</td>\n",
       "      <td>-544.770792</td>\n",
       "      <td>-20.996269</td>\n",
       "      <td>48.369552</td>\n",
       "      <td>80.252276</td>\n",
       "      <td>-13.832889</td>\n",
       "      <td>-0.694428</td>\n",
       "      <td>-1.175933</td>\n",
       "      <td>-0.45614</td>\n",
       "      <td>0.0</td>\n",
       "    </tr>\n",
       "    <tr>\n",
       "      <th>2</th>\n",
       "      <td>2</td>\n",
       "      <td>2015199</td>\n",
       "      <td>2018-12-24</td>\n",
       "      <td>-67.019971</td>\n",
       "      <td>157.050888</td>\n",
       "      <td>-63.180786</td>\n",
       "      <td>178.103202</td>\n",
       "      <td>-68.598246</td>\n",
       "      <td>156.99821</td>\n",
       "      <td>3.51382</td>\n",
       "      <td>...</td>\n",
       "      <td>-977.373846</td>\n",
       "      <td>-613.770792</td>\n",
       "      <td>-12.996269</td>\n",
       "      <td>-37.630448</td>\n",
       "      <td>10829.252276</td>\n",
       "      <td>-25.832889</td>\n",
       "      <td>-0.694428</td>\n",
       "      <td>-12.175933</td>\n",
       "      <td>-0.45614</td>\n",
       "      <td>0.0</td>\n",
       "    </tr>\n",
       "  </tbody>\n",
       "</table>\n",
       "<p>3 rows × 256 columns</p>\n",
       "</div>"
      ],
      "text/plain": [
       "   index_fea       id buy_time_fea          0           1           2  \\\n",
       "0          0  2013026   2018-07-16  18.910029   46.980888    4.969214   \n",
       "1          1  2014722   2018-10-15  36.690029  152.400888  448.069214   \n",
       "2          2  2015199   2018-12-24 -67.019971  157.050888  -63.180786   \n",
       "\n",
       "            3           4          5         6  ...         243         244  \\\n",
       "0   -1.386798    3.791754  -14.01179 -16.08618  ... -977.373846 -613.770792   \n",
       "1  563.833202  463.841754  568.99821 -16.08618  ... -891.373846 -544.770792   \n",
       "2  178.103202  -68.598246  156.99821   3.51382  ... -977.373846 -613.770792   \n",
       "\n",
       "         245        246           247        248       249        250  \\\n",
       "0 -25.996269 -37.630448   -301.747724 -25.832889 -0.694428 -12.175933   \n",
       "1 -20.996269  48.369552     80.252276 -13.832889 -0.694428  -1.175933   \n",
       "2 -12.996269 -37.630448  10829.252276 -25.832889 -0.694428 -12.175933   \n",
       "\n",
       "       251  252  \n",
       "0 -0.45614  0.0  \n",
       "1 -0.45614  0.0  \n",
       "2 -0.45614  0.0  \n",
       "\n",
       "[3 rows x 256 columns]"
      ]
     },
     "execution_count": 17,
     "metadata": {},
     "output_type": "execute_result"
    }
   ],
   "source": [
    "dd_features.head(3)"
   ]
  },
  {
   "cell_type": "code",
   "execution_count": 18,
   "id": "5a087ad3-9b67-40b3-a6e0-de0898cfb2ac",
   "metadata": {},
   "outputs": [
    {
     "data": {
      "text/html": [
       "<div>\n",
       "<style scoped>\n",
       "    .dataframe tbody tr th:only-of-type {\n",
       "        vertical-align: middle;\n",
       "    }\n",
       "\n",
       "    .dataframe tbody tr th {\n",
       "        vertical-align: top;\n",
       "    }\n",
       "\n",
       "    .dataframe thead th {\n",
       "        text-align: right;\n",
       "    }\n",
       "</style>\n",
       "<table border=\"1\" class=\"dataframe\">\n",
       "  <thead>\n",
       "    <tr style=\"text-align: right;\">\n",
       "      <th></th>\n",
       "      <th>index_sub</th>\n",
       "      <th>id</th>\n",
       "      <th>vas_id</th>\n",
       "      <th>buy_time_sub</th>\n",
       "      <th>target</th>\n",
       "    </tr>\n",
       "  </thead>\n",
       "  <tbody>\n",
       "    <tr>\n",
       "      <th>0</th>\n",
       "      <td>0</td>\n",
       "      <td>540968</td>\n",
       "      <td>8.0</td>\n",
       "      <td>2018-09-17</td>\n",
       "      <td>0.0</td>\n",
       "    </tr>\n",
       "    <tr>\n",
       "      <th>1</th>\n",
       "      <td>1</td>\n",
       "      <td>1454121</td>\n",
       "      <td>4.0</td>\n",
       "      <td>2018-07-16</td>\n",
       "      <td>0.0</td>\n",
       "    </tr>\n",
       "    <tr>\n",
       "      <th>2</th>\n",
       "      <td>2</td>\n",
       "      <td>2458816</td>\n",
       "      <td>1.0</td>\n",
       "      <td>2018-08-13</td>\n",
       "      <td>0.0</td>\n",
       "    </tr>\n",
       "  </tbody>\n",
       "</table>\n",
       "</div>"
      ],
      "text/plain": [
       "   index_sub       id  vas_id buy_time_sub  target\n",
       "0          0   540968     8.0   2018-09-17     0.0\n",
       "1          1  1454121     4.0   2018-07-16     0.0\n",
       "2          2  2458816     1.0   2018-08-13     0.0"
      ]
     },
     "execution_count": 18,
     "metadata": {},
     "output_type": "execute_result"
    }
   ],
   "source": [
    "dd_train.head(3)"
   ]
  },
  {
   "cell_type": "code",
   "execution_count": 19,
   "id": "33081dd5-89ad-46a1-bba6-d1addc3324b4",
   "metadata": {},
   "outputs": [
    {
     "data": {
      "text/html": [
       "<div>\n",
       "<style scoped>\n",
       "    .dataframe tbody tr th:only-of-type {\n",
       "        vertical-align: middle;\n",
       "    }\n",
       "\n",
       "    .dataframe tbody tr th {\n",
       "        vertical-align: top;\n",
       "    }\n",
       "\n",
       "    .dataframe thead th {\n",
       "        text-align: right;\n",
       "    }\n",
       "</style>\n",
       "<table border=\"1\" class=\"dataframe\">\n",
       "  <thead>\n",
       "    <tr style=\"text-align: right;\">\n",
       "      <th></th>\n",
       "      <th>index_sub</th>\n",
       "      <th>id</th>\n",
       "      <th>vas_id</th>\n",
       "      <th>buy_time_sub</th>\n",
       "    </tr>\n",
       "  </thead>\n",
       "  <tbody>\n",
       "    <tr>\n",
       "      <th>71228</th>\n",
       "      <td>71228</td>\n",
       "      <td>1891350</td>\n",
       "      <td>2.0</td>\n",
       "      <td>2019-01-21</td>\n",
       "    </tr>\n",
       "    <tr>\n",
       "      <th>71229</th>\n",
       "      <td>71229</td>\n",
       "      <td>2437172</td>\n",
       "      <td>2.0</td>\n",
       "      <td>2019-01-21</td>\n",
       "    </tr>\n",
       "    <tr>\n",
       "      <th>71230</th>\n",
       "      <td>71230</td>\n",
       "      <td>988236</td>\n",
       "      <td>2.0</td>\n",
       "      <td>2019-01-21</td>\n",
       "    </tr>\n",
       "  </tbody>\n",
       "</table>\n",
       "</div>"
      ],
      "text/plain": [
       "       index_sub       id  vas_id buy_time_sub\n",
       "71228      71228  1891350     2.0   2019-01-21\n",
       "71229      71229  2437172     2.0   2019-01-21\n",
       "71230      71230   988236     2.0   2019-01-21"
      ]
     },
     "execution_count": 19,
     "metadata": {},
     "output_type": "execute_result"
    }
   ],
   "source": [
    "dd_test.tail(3)"
   ]
  },
  {
   "cell_type": "markdown",
   "id": "6a597f14-5a2c-45e3-b31e-990f325950a4",
   "metadata": {},
   "source": [
    "### Объединение данных для train и features"
   ]
  },
  {
   "cell_type": "code",
   "execution_count": 20,
   "id": "27a2da6c-167a-4655-a398-ce74dbaa06f2",
   "metadata": {},
   "outputs": [
    {
     "name": "stdout",
     "output_type": "stream",
     "text": [
      "Wall time: 62.5 ms\n"
     ]
    }
   ],
   "source": [
    "%%time\n",
    "merged_data_train = dd.merge(dd_train, dd_features, on=['id'], how='inner')"
   ]
  },
  {
   "cell_type": "code",
   "execution_count": 21,
   "id": "1fdbe1b4-3186-4714-a732-512ad790585c",
   "metadata": {},
   "outputs": [
    {
     "data": {
      "text/html": [
       "<div>\n",
       "<style scoped>\n",
       "    .dataframe tbody tr th:only-of-type {\n",
       "        vertical-align: middle;\n",
       "    }\n",
       "\n",
       "    .dataframe tbody tr th {\n",
       "        vertical-align: top;\n",
       "    }\n",
       "\n",
       "    .dataframe thead th {\n",
       "        text-align: right;\n",
       "    }\n",
       "</style>\n",
       "<table border=\"1\" class=\"dataframe\">\n",
       "  <thead>\n",
       "    <tr style=\"text-align: right;\">\n",
       "      <th></th>\n",
       "      <th>index_sub</th>\n",
       "      <th>id</th>\n",
       "      <th>vas_id</th>\n",
       "      <th>buy_time_sub</th>\n",
       "      <th>target</th>\n",
       "      <th>index_fea</th>\n",
       "      <th>buy_time_fea</th>\n",
       "      <th>0</th>\n",
       "      <th>1</th>\n",
       "      <th>2</th>\n",
       "      <th>...</th>\n",
       "      <th>243</th>\n",
       "      <th>244</th>\n",
       "      <th>245</th>\n",
       "      <th>246</th>\n",
       "      <th>247</th>\n",
       "      <th>248</th>\n",
       "      <th>249</th>\n",
       "      <th>250</th>\n",
       "      <th>251</th>\n",
       "      <th>252</th>\n",
       "    </tr>\n",
       "  </thead>\n",
       "  <tbody>\n",
       "    <tr>\n",
       "      <th>0</th>\n",
       "      <td>140</td>\n",
       "      <td>4130548</td>\n",
       "      <td>2.0</td>\n",
       "      <td>2018-12-10</td>\n",
       "      <td>0.0</td>\n",
       "      <td>8832</td>\n",
       "      <td>2019-01-21</td>\n",
       "      <td>11.700029</td>\n",
       "      <td>17.790888</td>\n",
       "      <td>4.429214</td>\n",
       "      <td>...</td>\n",
       "      <td>-943.373846</td>\n",
       "      <td>-598.770792</td>\n",
       "      <td>-25.996269</td>\n",
       "      <td>-22.630448</td>\n",
       "      <td>-220.747724</td>\n",
       "      <td>-14.832889</td>\n",
       "      <td>-0.694428</td>\n",
       "      <td>-12.175933</td>\n",
       "      <td>-0.45614</td>\n",
       "      <td>1.0</td>\n",
       "    </tr>\n",
       "    <tr>\n",
       "      <th>1</th>\n",
       "      <td>842</td>\n",
       "      <td>540997</td>\n",
       "      <td>1.0</td>\n",
       "      <td>2018-11-05</td>\n",
       "      <td>0.0</td>\n",
       "      <td>11897</td>\n",
       "      <td>2018-12-24</td>\n",
       "      <td>-96.799971</td>\n",
       "      <td>-69.199112</td>\n",
       "      <td>-108.200786</td>\n",
       "      <td>...</td>\n",
       "      <td>-977.373846</td>\n",
       "      <td>-613.770792</td>\n",
       "      <td>-25.996269</td>\n",
       "      <td>-37.630448</td>\n",
       "      <td>-306.747724</td>\n",
       "      <td>-24.832889</td>\n",
       "      <td>0.305572</td>\n",
       "      <td>-12.175933</td>\n",
       "      <td>-0.45614</td>\n",
       "      <td>0.0</td>\n",
       "    </tr>\n",
       "    <tr>\n",
       "      <th>2</th>\n",
       "      <td>843</td>\n",
       "      <td>540997</td>\n",
       "      <td>4.0</td>\n",
       "      <td>2018-11-19</td>\n",
       "      <td>1.0</td>\n",
       "      <td>11897</td>\n",
       "      <td>2018-12-24</td>\n",
       "      <td>-96.799971</td>\n",
       "      <td>-69.199112</td>\n",
       "      <td>-108.200786</td>\n",
       "      <td>...</td>\n",
       "      <td>-977.373846</td>\n",
       "      <td>-613.770792</td>\n",
       "      <td>-25.996269</td>\n",
       "      <td>-37.630448</td>\n",
       "      <td>-306.747724</td>\n",
       "      <td>-24.832889</td>\n",
       "      <td>0.305572</td>\n",
       "      <td>-12.175933</td>\n",
       "      <td>-0.45614</td>\n",
       "      <td>0.0</td>\n",
       "    </tr>\n",
       "  </tbody>\n",
       "</table>\n",
       "<p>3 rows × 260 columns</p>\n",
       "</div>"
      ],
      "text/plain": [
       "   index_sub       id  vas_id buy_time_sub  target  index_fea buy_time_fea  \\\n",
       "0        140  4130548     2.0   2018-12-10     0.0       8832   2019-01-21   \n",
       "1        842   540997     1.0   2018-11-05     0.0      11897   2018-12-24   \n",
       "2        843   540997     4.0   2018-11-19     1.0      11897   2018-12-24   \n",
       "\n",
       "           0          1           2  ...         243         244        245  \\\n",
       "0  11.700029  17.790888    4.429214  ... -943.373846 -598.770792 -25.996269   \n",
       "1 -96.799971 -69.199112 -108.200786  ... -977.373846 -613.770792 -25.996269   \n",
       "2 -96.799971 -69.199112 -108.200786  ... -977.373846 -613.770792 -25.996269   \n",
       "\n",
       "         246         247        248       249        250      251  252  \n",
       "0 -22.630448 -220.747724 -14.832889 -0.694428 -12.175933 -0.45614  1.0  \n",
       "1 -37.630448 -306.747724 -24.832889  0.305572 -12.175933 -0.45614  0.0  \n",
       "2 -37.630448 -306.747724 -24.832889  0.305572 -12.175933 -0.45614  0.0  \n",
       "\n",
       "[3 rows x 260 columns]"
      ]
     },
     "execution_count": 21,
     "metadata": {},
     "output_type": "execute_result"
    }
   ],
   "source": [
    "merged_data_train.head(3)"
   ]
  },
  {
   "cell_type": "code",
   "execution_count": null,
   "id": "eb3a8abc-6b11-477f-aa72-4e01bbe201d2",
   "metadata": {},
   "outputs": [],
   "source": [
    "%%time\n",
    "pd_merged_data_train = merged_data_train.compute()"
   ]
  },
  {
   "cell_type": "code",
   "execution_count": null,
   "id": "b8fa1bd6-2b19-45cb-a37d-94f1485030b0",
   "metadata": {},
   "outputs": [],
   "source": []
  }
 ],
 "metadata": {
  "kernelspec": {
   "display_name": "Python 3",
   "language": "python",
   "name": "python3"
  },
  "language_info": {
   "codemirror_mode": {
    "name": "ipython",
    "version": 3
   },
   "file_extension": ".py",
   "mimetype": "text/x-python",
   "name": "python",
   "nbconvert_exporter": "python",
   "pygments_lexer": "ipython3",
   "version": "3.8.8"
  }
 },
 "nbformat": 4,
 "nbformat_minor": 5
}
